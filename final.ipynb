{
 "cells": [
  {
   "cell_type": "code",
   "execution_count": null,
   "metadata": {},
   "outputs": [],
   "source": [
    "import pandas as pd\n",
    "import matplotlib.pyplot as plt"
   ]
  },
  {
   "cell_type": "code",
   "execution_count": null,
   "metadata": {},
   "outputs": [],
   "source": [
    "df = pd.read_csv(\"datasets/bus.csv\")\n",
    "\n",
    "grouped = df.groupby('route_full_name')['on_time_percent'].mean().reset_index()\n",
    "\n",
    "colors = []\n",
    "for percentage in grouped['on_time_percent']:\n",
    "    if percentage >= 0.8:\n",
    "        colors.append('green')\n",
    "    elif percentage >= 0.65:\n",
    "        colors.append('yellow')\n",
    "    else:\n",
    "        colors.append('red')\n",
    "\n",
    "plt.figure(figsize=(12, 30))\n",
    "plt.barh(grouped['route_full_name'], grouped['on_time_percent'], color=colors, height = .8)\n",
    "\n",
    "plt.title('Bus On-Time Performance by Neighborhood')\n",
    "plt.xlabel('On-Time Percentage')\n",
    "plt.ylabel('Neighborhood')\n",
    "\n",
    "plt.show()\n"
   ]
  }
 ],
 "metadata": {
  "language_info": {
   "name": "python"
  },
  "orig_nbformat": 4
 },
 "nbformat": 4,
 "nbformat_minor": 2
}
