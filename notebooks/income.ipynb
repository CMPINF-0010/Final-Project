{
 "cells": [
  {
   "cell_type": "markdown",
   "metadata": {},
   "source": [
    "# Introduction"
   ]
  },
  {
   "cell_type": "markdown",
   "metadata": {},
   "source": [
    "**The** project I have chosen is about the household income situation in different communities throughout Pittsburgh, and I will select the communities with the highest income from them. \n",
    "\n",
    "**The** data I used comes from a 2015 community survey of the entire city of Pittsburgh, which will include the income situation of households in different communities within the 12 months at that time"
   ]
  },
  {
   "cell_type": "markdown",
   "metadata": {},
   "source": [
    "# The Metric"
   ]
  },
  {
   "cell_type": "markdown",
   "metadata": {},
   "source": [
    "**My** measurement standard is monthly income, and the unit of income I measure is in US dollars. \n",
    "\n",
    "The dataset I use mainly includes \n",
    "\n",
    "* The total income of each month\n",
    "\n",
    "* Income with wages\n",
    "\n",
    "* Income without wages \n",
    "\n",
    "* And the Margin of error of each of them"
   ]
  },
  {
   "cell_type": "markdown",
   "metadata": {},
   "source": [
    "# The Best Neighborhood"
   ]
  },
  {
   "cell_type": "code",
   "execution_count": 17,
   "metadata": {},
   "outputs": [
    {
     "name": "stdout",
     "output_type": "stream",
     "text": [
      "Maximum value in column 'Estimate; Total': \n",
      "7484.0\n",
      "Maximum value of  Estimate Total  and its all values:\n",
      " Neighborhood                                             Shadyside\n",
      "Id                                                              69\n",
      "Estimate; Total:                                            7484.0\n",
      "Margin of Error; Total:                                 360.919659\n",
      "Estimate; Total: - With wage or salary income               6134.0\n",
      "Margin of Error; Total: - With wage or salary income    363.641307\n",
      "Estimate; Total: - No wage or salary income                 1350.0\n",
      "Margin of Error; Total: - No wage or salary income       210.56353\n",
      "Name: 68, dtype: object\n"
     ]
    }
   ],
   "source": [
    "import numpy as np\n",
    "import pandas as pd\n",
    "\n",
    "data = pd.read_csv('wage-or-salary-income-in-the-past-12-months-for-households.csv')\n",
    "maxClm = data['Estimate; Total:'].max()\n",
    "print(\"Maximum value in column 'Estimate; Total': \")\n",
    "print(maxClm)\n",
    "\n",
    "max_x = data.loc[data['Estimate; Total:'].idxmax()]\n",
    "print (\"Maximum value of \", \"Estimate Total\", \" and its all values:\\n\", max_x)"
   ]
  },
  {
   "cell_type": "markdown",
   "metadata": {},
   "source": [
    "**From** the code above, I can see that Shadyside community has the highest salary among all the other communities"
   ]
  },
  {
   "cell_type": "markdown",
   "metadata": {},
   "source": [
    "# Conclusion"
   ]
  },
  {
   "cell_type": "markdown",
   "metadata": {},
   "source": [
    "* The final result indicates that Shadyside is the community with the highest income in Pittsburgh, which is basically in line with my expectations, as compared to other communities, this community has various high-end boutiques, well-known brand specialty stores and specialty grocery stores, antique shops, and home accessory stores; There are also various bars and snack bar at night, which further proves that the industrial chain and service chain owned by this community are more abundant, thus providing more employment opportunities."
   ]
  },
  {
   "cell_type": "code",
   "execution_count": null,
   "metadata": {},
   "outputs": [],
   "source": []
  }
 ],
 "metadata": {
  "kernelspec": {
   "display_name": "Python 3",
   "language": "python",
   "name": "python3"
  },
  "language_info": {
   "codemirror_mode": {
    "name": "ipython",
    "version": 3
   },
   "file_extension": ".py",
   "mimetype": "text/x-python",
   "name": "python",
   "nbconvert_exporter": "python",
   "pygments_lexer": "ipython3",
   "version": "3.8.3"
  }
 },
 "nbformat": 4,
 "nbformat_minor": 4
}
