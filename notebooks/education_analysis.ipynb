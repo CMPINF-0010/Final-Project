{
 "cells": [
  {
   "cell_type": "code",
   "execution_count": 1,
   "id": "1ee19e7a",
   "metadata": {},
   "outputs": [],
   "source": [
    "import pandas as pd"
   ]
  },
  {
   "cell_type": "code",
   "execution_count": 2,
   "id": "783db780",
   "metadata": {},
   "outputs": [
    {
     "ename": "FileNotFoundError",
     "evalue": "[Errno 2] No such file or directory: 'education_dataset.csv'",
     "output_type": "error",
     "traceback": [
      "\u001b[0;31m---------------------------------------------------------------------------\u001b[0m",
      "\u001b[0;31mFileNotFoundError\u001b[0m                         Traceback (most recent call last)",
      "Cell \u001b[0;32mIn[2], line 1\u001b[0m\n\u001b[0;32m----> 1\u001b[0m edu \u001b[38;5;241m=\u001b[39m \u001b[43mpd\u001b[49m\u001b[38;5;241;43m.\u001b[39;49m\u001b[43mread_csv\u001b[49m\u001b[43m(\u001b[49m\u001b[38;5;124;43m\"\u001b[39;49m\u001b[38;5;124;43meducation_dataset.csv\u001b[39;49m\u001b[38;5;124;43m\"\u001b[39;49m\u001b[43m)\u001b[49m\n\u001b[1;32m      2\u001b[0m edu\u001b[38;5;241m.\u001b[39mhead(\u001b[38;5;241m10\u001b[39m)\n",
      "File \u001b[0;32m/Library/Frameworks/Python.framework/Versions/3.11/lib/python3.11/site-packages/pandas/io/parsers/readers.py:912\u001b[0m, in \u001b[0;36mread_csv\u001b[0;34m(filepath_or_buffer, sep, delimiter, header, names, index_col, usecols, dtype, engine, converters, true_values, false_values, skipinitialspace, skiprows, skipfooter, nrows, na_values, keep_default_na, na_filter, verbose, skip_blank_lines, parse_dates, infer_datetime_format, keep_date_col, date_parser, date_format, dayfirst, cache_dates, iterator, chunksize, compression, thousands, decimal, lineterminator, quotechar, quoting, doublequote, escapechar, comment, encoding, encoding_errors, dialect, on_bad_lines, delim_whitespace, low_memory, memory_map, float_precision, storage_options, dtype_backend)\u001b[0m\n\u001b[1;32m    899\u001b[0m kwds_defaults \u001b[38;5;241m=\u001b[39m _refine_defaults_read(\n\u001b[1;32m    900\u001b[0m     dialect,\n\u001b[1;32m    901\u001b[0m     delimiter,\n\u001b[0;32m   (...)\u001b[0m\n\u001b[1;32m    908\u001b[0m     dtype_backend\u001b[38;5;241m=\u001b[39mdtype_backend,\n\u001b[1;32m    909\u001b[0m )\n\u001b[1;32m    910\u001b[0m kwds\u001b[38;5;241m.\u001b[39mupdate(kwds_defaults)\n\u001b[0;32m--> 912\u001b[0m \u001b[38;5;28;01mreturn\u001b[39;00m \u001b[43m_read\u001b[49m\u001b[43m(\u001b[49m\u001b[43mfilepath_or_buffer\u001b[49m\u001b[43m,\u001b[49m\u001b[43m \u001b[49m\u001b[43mkwds\u001b[49m\u001b[43m)\u001b[49m\n",
      "File \u001b[0;32m/Library/Frameworks/Python.framework/Versions/3.11/lib/python3.11/site-packages/pandas/io/parsers/readers.py:577\u001b[0m, in \u001b[0;36m_read\u001b[0;34m(filepath_or_buffer, kwds)\u001b[0m\n\u001b[1;32m    574\u001b[0m _validate_names(kwds\u001b[38;5;241m.\u001b[39mget(\u001b[38;5;124m\"\u001b[39m\u001b[38;5;124mnames\u001b[39m\u001b[38;5;124m\"\u001b[39m, \u001b[38;5;28;01mNone\u001b[39;00m))\n\u001b[1;32m    576\u001b[0m \u001b[38;5;66;03m# Create the parser.\u001b[39;00m\n\u001b[0;32m--> 577\u001b[0m parser \u001b[38;5;241m=\u001b[39m \u001b[43mTextFileReader\u001b[49m\u001b[43m(\u001b[49m\u001b[43mfilepath_or_buffer\u001b[49m\u001b[43m,\u001b[49m\u001b[43m \u001b[49m\u001b[38;5;241;43m*\u001b[39;49m\u001b[38;5;241;43m*\u001b[39;49m\u001b[43mkwds\u001b[49m\u001b[43m)\u001b[49m\n\u001b[1;32m    579\u001b[0m \u001b[38;5;28;01mif\u001b[39;00m chunksize \u001b[38;5;129;01mor\u001b[39;00m iterator:\n\u001b[1;32m    580\u001b[0m     \u001b[38;5;28;01mreturn\u001b[39;00m parser\n",
      "File \u001b[0;32m/Library/Frameworks/Python.framework/Versions/3.11/lib/python3.11/site-packages/pandas/io/parsers/readers.py:1407\u001b[0m, in \u001b[0;36mTextFileReader.__init__\u001b[0;34m(self, f, engine, **kwds)\u001b[0m\n\u001b[1;32m   1404\u001b[0m     \u001b[38;5;28mself\u001b[39m\u001b[38;5;241m.\u001b[39moptions[\u001b[38;5;124m\"\u001b[39m\u001b[38;5;124mhas_index_names\u001b[39m\u001b[38;5;124m\"\u001b[39m] \u001b[38;5;241m=\u001b[39m kwds[\u001b[38;5;124m\"\u001b[39m\u001b[38;5;124mhas_index_names\u001b[39m\u001b[38;5;124m\"\u001b[39m]\n\u001b[1;32m   1406\u001b[0m \u001b[38;5;28mself\u001b[39m\u001b[38;5;241m.\u001b[39mhandles: IOHandles \u001b[38;5;241m|\u001b[39m \u001b[38;5;28;01mNone\u001b[39;00m \u001b[38;5;241m=\u001b[39m \u001b[38;5;28;01mNone\u001b[39;00m\n\u001b[0;32m-> 1407\u001b[0m \u001b[38;5;28mself\u001b[39m\u001b[38;5;241m.\u001b[39m_engine \u001b[38;5;241m=\u001b[39m \u001b[38;5;28;43mself\u001b[39;49m\u001b[38;5;241;43m.\u001b[39;49m\u001b[43m_make_engine\u001b[49m\u001b[43m(\u001b[49m\u001b[43mf\u001b[49m\u001b[43m,\u001b[49m\u001b[43m \u001b[49m\u001b[38;5;28;43mself\u001b[39;49m\u001b[38;5;241;43m.\u001b[39;49m\u001b[43mengine\u001b[49m\u001b[43m)\u001b[49m\n",
      "File \u001b[0;32m/Library/Frameworks/Python.framework/Versions/3.11/lib/python3.11/site-packages/pandas/io/parsers/readers.py:1661\u001b[0m, in \u001b[0;36mTextFileReader._make_engine\u001b[0;34m(self, f, engine)\u001b[0m\n\u001b[1;32m   1659\u001b[0m     \u001b[38;5;28;01mif\u001b[39;00m \u001b[38;5;124m\"\u001b[39m\u001b[38;5;124mb\u001b[39m\u001b[38;5;124m\"\u001b[39m \u001b[38;5;129;01mnot\u001b[39;00m \u001b[38;5;129;01min\u001b[39;00m mode:\n\u001b[1;32m   1660\u001b[0m         mode \u001b[38;5;241m+\u001b[39m\u001b[38;5;241m=\u001b[39m \u001b[38;5;124m\"\u001b[39m\u001b[38;5;124mb\u001b[39m\u001b[38;5;124m\"\u001b[39m\n\u001b[0;32m-> 1661\u001b[0m \u001b[38;5;28mself\u001b[39m\u001b[38;5;241m.\u001b[39mhandles \u001b[38;5;241m=\u001b[39m \u001b[43mget_handle\u001b[49m\u001b[43m(\u001b[49m\n\u001b[1;32m   1662\u001b[0m \u001b[43m    \u001b[49m\u001b[43mf\u001b[49m\u001b[43m,\u001b[49m\n\u001b[1;32m   1663\u001b[0m \u001b[43m    \u001b[49m\u001b[43mmode\u001b[49m\u001b[43m,\u001b[49m\n\u001b[1;32m   1664\u001b[0m \u001b[43m    \u001b[49m\u001b[43mencoding\u001b[49m\u001b[38;5;241;43m=\u001b[39;49m\u001b[38;5;28;43mself\u001b[39;49m\u001b[38;5;241;43m.\u001b[39;49m\u001b[43moptions\u001b[49m\u001b[38;5;241;43m.\u001b[39;49m\u001b[43mget\u001b[49m\u001b[43m(\u001b[49m\u001b[38;5;124;43m\"\u001b[39;49m\u001b[38;5;124;43mencoding\u001b[39;49m\u001b[38;5;124;43m\"\u001b[39;49m\u001b[43m,\u001b[49m\u001b[43m \u001b[49m\u001b[38;5;28;43;01mNone\u001b[39;49;00m\u001b[43m)\u001b[49m\u001b[43m,\u001b[49m\n\u001b[1;32m   1665\u001b[0m \u001b[43m    \u001b[49m\u001b[43mcompression\u001b[49m\u001b[38;5;241;43m=\u001b[39;49m\u001b[38;5;28;43mself\u001b[39;49m\u001b[38;5;241;43m.\u001b[39;49m\u001b[43moptions\u001b[49m\u001b[38;5;241;43m.\u001b[39;49m\u001b[43mget\u001b[49m\u001b[43m(\u001b[49m\u001b[38;5;124;43m\"\u001b[39;49m\u001b[38;5;124;43mcompression\u001b[39;49m\u001b[38;5;124;43m\"\u001b[39;49m\u001b[43m,\u001b[49m\u001b[43m \u001b[49m\u001b[38;5;28;43;01mNone\u001b[39;49;00m\u001b[43m)\u001b[49m\u001b[43m,\u001b[49m\n\u001b[1;32m   1666\u001b[0m \u001b[43m    \u001b[49m\u001b[43mmemory_map\u001b[49m\u001b[38;5;241;43m=\u001b[39;49m\u001b[38;5;28;43mself\u001b[39;49m\u001b[38;5;241;43m.\u001b[39;49m\u001b[43moptions\u001b[49m\u001b[38;5;241;43m.\u001b[39;49m\u001b[43mget\u001b[49m\u001b[43m(\u001b[49m\u001b[38;5;124;43m\"\u001b[39;49m\u001b[38;5;124;43mmemory_map\u001b[39;49m\u001b[38;5;124;43m\"\u001b[39;49m\u001b[43m,\u001b[49m\u001b[43m \u001b[49m\u001b[38;5;28;43;01mFalse\u001b[39;49;00m\u001b[43m)\u001b[49m\u001b[43m,\u001b[49m\n\u001b[1;32m   1667\u001b[0m \u001b[43m    \u001b[49m\u001b[43mis_text\u001b[49m\u001b[38;5;241;43m=\u001b[39;49m\u001b[43mis_text\u001b[49m\u001b[43m,\u001b[49m\n\u001b[1;32m   1668\u001b[0m \u001b[43m    \u001b[49m\u001b[43merrors\u001b[49m\u001b[38;5;241;43m=\u001b[39;49m\u001b[38;5;28;43mself\u001b[39;49m\u001b[38;5;241;43m.\u001b[39;49m\u001b[43moptions\u001b[49m\u001b[38;5;241;43m.\u001b[39;49m\u001b[43mget\u001b[49m\u001b[43m(\u001b[49m\u001b[38;5;124;43m\"\u001b[39;49m\u001b[38;5;124;43mencoding_errors\u001b[39;49m\u001b[38;5;124;43m\"\u001b[39;49m\u001b[43m,\u001b[49m\u001b[43m \u001b[49m\u001b[38;5;124;43m\"\u001b[39;49m\u001b[38;5;124;43mstrict\u001b[39;49m\u001b[38;5;124;43m\"\u001b[39;49m\u001b[43m)\u001b[49m\u001b[43m,\u001b[49m\n\u001b[1;32m   1669\u001b[0m \u001b[43m    \u001b[49m\u001b[43mstorage_options\u001b[49m\u001b[38;5;241;43m=\u001b[39;49m\u001b[38;5;28;43mself\u001b[39;49m\u001b[38;5;241;43m.\u001b[39;49m\u001b[43moptions\u001b[49m\u001b[38;5;241;43m.\u001b[39;49m\u001b[43mget\u001b[49m\u001b[43m(\u001b[49m\u001b[38;5;124;43m\"\u001b[39;49m\u001b[38;5;124;43mstorage_options\u001b[39;49m\u001b[38;5;124;43m\"\u001b[39;49m\u001b[43m,\u001b[49m\u001b[43m \u001b[49m\u001b[38;5;28;43;01mNone\u001b[39;49;00m\u001b[43m)\u001b[49m\u001b[43m,\u001b[49m\n\u001b[1;32m   1670\u001b[0m \u001b[43m\u001b[49m\u001b[43m)\u001b[49m\n\u001b[1;32m   1671\u001b[0m \u001b[38;5;28;01massert\u001b[39;00m \u001b[38;5;28mself\u001b[39m\u001b[38;5;241m.\u001b[39mhandles \u001b[38;5;129;01mis\u001b[39;00m \u001b[38;5;129;01mnot\u001b[39;00m \u001b[38;5;28;01mNone\u001b[39;00m\n\u001b[1;32m   1672\u001b[0m f \u001b[38;5;241m=\u001b[39m \u001b[38;5;28mself\u001b[39m\u001b[38;5;241m.\u001b[39mhandles\u001b[38;5;241m.\u001b[39mhandle\n",
      "File \u001b[0;32m/Library/Frameworks/Python.framework/Versions/3.11/lib/python3.11/site-packages/pandas/io/common.py:859\u001b[0m, in \u001b[0;36mget_handle\u001b[0;34m(path_or_buf, mode, encoding, compression, memory_map, is_text, errors, storage_options)\u001b[0m\n\u001b[1;32m    854\u001b[0m \u001b[38;5;28;01melif\u001b[39;00m \u001b[38;5;28misinstance\u001b[39m(handle, \u001b[38;5;28mstr\u001b[39m):\n\u001b[1;32m    855\u001b[0m     \u001b[38;5;66;03m# Check whether the filename is to be opened in binary mode.\u001b[39;00m\n\u001b[1;32m    856\u001b[0m     \u001b[38;5;66;03m# Binary mode does not support 'encoding' and 'newline'.\u001b[39;00m\n\u001b[1;32m    857\u001b[0m     \u001b[38;5;28;01mif\u001b[39;00m ioargs\u001b[38;5;241m.\u001b[39mencoding \u001b[38;5;129;01mand\u001b[39;00m \u001b[38;5;124m\"\u001b[39m\u001b[38;5;124mb\u001b[39m\u001b[38;5;124m\"\u001b[39m \u001b[38;5;129;01mnot\u001b[39;00m \u001b[38;5;129;01min\u001b[39;00m ioargs\u001b[38;5;241m.\u001b[39mmode:\n\u001b[1;32m    858\u001b[0m         \u001b[38;5;66;03m# Encoding\u001b[39;00m\n\u001b[0;32m--> 859\u001b[0m         handle \u001b[38;5;241m=\u001b[39m \u001b[38;5;28;43mopen\u001b[39;49m\u001b[43m(\u001b[49m\n\u001b[1;32m    860\u001b[0m \u001b[43m            \u001b[49m\u001b[43mhandle\u001b[49m\u001b[43m,\u001b[49m\n\u001b[1;32m    861\u001b[0m \u001b[43m            \u001b[49m\u001b[43mioargs\u001b[49m\u001b[38;5;241;43m.\u001b[39;49m\u001b[43mmode\u001b[49m\u001b[43m,\u001b[49m\n\u001b[1;32m    862\u001b[0m \u001b[43m            \u001b[49m\u001b[43mencoding\u001b[49m\u001b[38;5;241;43m=\u001b[39;49m\u001b[43mioargs\u001b[49m\u001b[38;5;241;43m.\u001b[39;49m\u001b[43mencoding\u001b[49m\u001b[43m,\u001b[49m\n\u001b[1;32m    863\u001b[0m \u001b[43m            \u001b[49m\u001b[43merrors\u001b[49m\u001b[38;5;241;43m=\u001b[39;49m\u001b[43merrors\u001b[49m\u001b[43m,\u001b[49m\n\u001b[1;32m    864\u001b[0m \u001b[43m            \u001b[49m\u001b[43mnewline\u001b[49m\u001b[38;5;241;43m=\u001b[39;49m\u001b[38;5;124;43m\"\u001b[39;49m\u001b[38;5;124;43m\"\u001b[39;49m\u001b[43m,\u001b[49m\n\u001b[1;32m    865\u001b[0m \u001b[43m        \u001b[49m\u001b[43m)\u001b[49m\n\u001b[1;32m    866\u001b[0m     \u001b[38;5;28;01melse\u001b[39;00m:\n\u001b[1;32m    867\u001b[0m         \u001b[38;5;66;03m# Binary mode\u001b[39;00m\n\u001b[1;32m    868\u001b[0m         handle \u001b[38;5;241m=\u001b[39m \u001b[38;5;28mopen\u001b[39m(handle, ioargs\u001b[38;5;241m.\u001b[39mmode)\n",
      "\u001b[0;31mFileNotFoundError\u001b[0m: [Errno 2] No such file or directory: 'education_dataset.csv'"
     ]
    }
   ],
   "source": [
    "edu = pd.read_csv(\"education_dataset.csv\")\n",
    "edu.head(10)"
   ]
  },
  {
   "cell_type": "markdown",
   "id": "6a50a553",
   "metadata": {},
   "source": [
    "# Metric\n",
    "### The metric we're using for our project is \"money making potential\"\n",
    "\n",
    "## My Submetric: Education\n",
    "### Regarding money making, it's common knowledge that in general, with higher education, higher income can be expected. This is not a hard and fast rule. For example, as a whole, individuals with masters degrees tend to make more money than those with doctorates. However, we're going to examine which neighborhoods have the highest graduation rates in graduate, undergraduate, and highschool education. Since individuals with masters degrees tend to make more money than those with graduate degrees, we're only going to consider masters degrees for graduate school. "
   ]
  },
  {
   "cell_type": "code",
   "execution_count": null,
   "id": "e2e0226c",
   "metadata": {},
   "outputs": [],
   "source": [
    "total_count = \"Estimate; Total:\"\n",
    "highschool_count = \"Estimate; Total: - Regular high school diploma\"\n",
    "undergrad_count = \"Estimate; Total: - Bachelor's degree\"\n",
    "graduate_count = \"Estimate; Total: - Master's degree\"\n",
    "print(\"Total row\")\n",
    "print(edu[total_count])\n",
    "print(\"Highschool graduate row\")\n",
    "print(edu[highschool_count])\n",
    "print(\"Undergrad graduate row\")\n",
    "print(edu[undergrad_count])\n",
    "print(\"Graduate row\")\n",
    "print(edu[graduate_count])"
   ]
  },
  {
   "cell_type": "code",
   "execution_count": 3,
   "id": "dc13ca52",
   "metadata": {},
   "outputs": [
    {
     "ename": "NameError",
     "evalue": "name 'edu' is not defined",
     "output_type": "error",
     "traceback": [
      "\u001b[0;31m---------------------------------------------------------------------------\u001b[0m",
      "\u001b[0;31mNameError\u001b[0m                                 Traceback (most recent call last)",
      "Cell \u001b[0;32mIn[3], line 1\u001b[0m\n\u001b[0;32m----> 1\u001b[0m edu[\u001b[38;5;124m\"\u001b[39m\u001b[38;5;124mhs_ratio\u001b[39m\u001b[38;5;124m\"\u001b[39m] \u001b[38;5;241m=\u001b[39m  (\u001b[43medu\u001b[49m[highschool_count] \u001b[38;5;241m/\u001b[39m edu[total_count]) \u001b[38;5;241m*\u001b[39m \u001b[38;5;241m100\u001b[39m\n\u001b[1;32m      2\u001b[0m edu[\u001b[38;5;124m\"\u001b[39m\u001b[38;5;124mundergrad_ratio\u001b[39m\u001b[38;5;124m\"\u001b[39m] \u001b[38;5;241m=\u001b[39m  (edu[undergrad_count] \u001b[38;5;241m/\u001b[39m edu[total_count]) \u001b[38;5;241m*\u001b[39m \u001b[38;5;241m100\u001b[39m\n\u001b[1;32m      3\u001b[0m edu[\u001b[38;5;124m\"\u001b[39m\u001b[38;5;124mgraduate_ratio\u001b[39m\u001b[38;5;124m\"\u001b[39m] \u001b[38;5;241m=\u001b[39m  (edu[graduate_count] \u001b[38;5;241m/\u001b[39m edu[total_count]) \u001b[38;5;241m*\u001b[39m \u001b[38;5;241m100\u001b[39m\n",
      "\u001b[0;31mNameError\u001b[0m: name 'edu' is not defined"
     ]
    }
   ],
   "source": [
    "edu[\"hs_ratio\"] =  (edu[highschool_count] / edu[total_count]) * 100\n",
    "edu[\"undergrad_ratio\"] =  (edu[undergrad_count] / edu[total_count]) * 100\n",
    "edu[\"graduate_ratio\"] =  (edu[graduate_count] / edu[total_count]) * 100\n",
    "print(edu[\"hs_ratio\"])\n",
    "print(edu[\"undergrad_ratio\"])\n",
    "print(edu[\"graduate_ratio\"])"
   ]
  },
  {
   "cell_type": "markdown",
   "id": "439015e9",
   "metadata": {},
   "source": [
    "### What's going on?\n",
    "Since some neighborhoods have more people than others, it wouldn't be fair to compare them based on raw counts. So what we're really looking for is the ratios. The way this dataset works is, each number indicates the highest eduation level recieved for that recipient. So if there are 100 entires in \"basic highschool diploma\" for a given neighborhood, then 100 people in that neighborhood who took this school have a highschool education as their highest eduational achievement. If there are 200 people in the neighborhood, this is quite bad. If there are 10,000 people in the neighborhood, this is quite good. This is the motivation behind finding the ratios. \n",
    "\n",
    "### What next?\n",
    "In order to find the best neighborhood, we're going to try to discover which neighborhood corresponds to the largest ratio of people who attained graduate educations as their highest attainment. This will be a good indication of how much of an emphasis this neighborhood puts on education. For further insight, we'll examine undergraduate and highschool. Note that if one neighborhood has 10% of people having HS as their highest attained education and another neighborhood has 5%, this is not enough information to compare the two. This is because there are two reasons why the second neighborhood might have a lower HS graduation ratio: \n",
    "- more people go on to university. This would decrease the HS graduation highest attainment ratio, but it's actually a good thing\n",
    "- more people drop out of high school. This would also decrease the HS graduation highest attainment ratio, but it's a bad thing."
   ]
  },
  {
   "cell_type": "code",
   "execution_count": 4,
   "id": "6a1cfab4",
   "metadata": {},
   "outputs": [
    {
     "ename": "NameError",
     "evalue": "name 'edu' is not defined",
     "output_type": "error",
     "traceback": [
      "\u001b[0;31m---------------------------------------------------------------------------\u001b[0m",
      "\u001b[0;31mNameError\u001b[0m                                 Traceback (most recent call last)",
      "Cell \u001b[0;32mIn[4], line 4\u001b[0m\n\u001b[1;32m      1\u001b[0m \u001b[38;5;66;03m# getting the neighborhooods corresponding to the maximum values of the ratios.\u001b[39;00m\n\u001b[1;32m      2\u001b[0m \u001b[38;5;66;03m# DataFrame.idxmax(axis=0, skipna=True, numeric_only=False)[source]\u001b[39;00m\n\u001b[1;32m      3\u001b[0m \u001b[38;5;66;03m#     Return index of first occurrence of maximum over requested axis.\u001b[39;00m\n\u001b[0;32m----> 4\u001b[0m max_hs \u001b[38;5;241m=\u001b[39m \u001b[43medu\u001b[49m[\u001b[38;5;124m\"\u001b[39m\u001b[38;5;124mhs_ratio\u001b[39m\u001b[38;5;124m\"\u001b[39m]\u001b[38;5;241m.\u001b[39midxmax()\n\u001b[1;32m      5\u001b[0m max_undergrad \u001b[38;5;241m=\u001b[39m edu[\u001b[38;5;124m\"\u001b[39m\u001b[38;5;124mundergrad_ratio\u001b[39m\u001b[38;5;124m\"\u001b[39m]\u001b[38;5;241m.\u001b[39midxmax()\n\u001b[1;32m      6\u001b[0m max_graduate \u001b[38;5;241m=\u001b[39m edu[\u001b[38;5;124m\"\u001b[39m\u001b[38;5;124mgraduate_ratio\u001b[39m\u001b[38;5;124m\"\u001b[39m]\u001b[38;5;241m.\u001b[39midxmax()\n",
      "\u001b[0;31mNameError\u001b[0m: name 'edu' is not defined"
     ]
    }
   ],
   "source": [
    "# getting the neighborhooods corresponding to the maximum values of the ratios.\n",
    "# DataFrame.idxmax(axis=0, skipna=True, numeric_only=False)[source]\n",
    "#     Return index of first occurrence of maximum over requested axis.\n",
    "max_hs = edu[\"hs_ratio\"].idxmax()\n",
    "max_undergrad = edu[\"undergrad_ratio\"].idxmax()\n",
    "max_graduate = edu[\"graduate_ratio\"].idxmax()\n",
    "# Now to get the names of the neighborhoods based on the ids of the maximum values\n",
    "# usage of loc: df.loc[row_indexer,column_indexer]\n",
    "max_hs_name = edu.loc[max_hs, \"Neighborhood\"]\n",
    "max_undergrad_name = edu.loc[max_undergrad, \"Neighborhood\"]\n",
    "max_graduate_name = edu.loc[max_graduate, \"Neighborhood\"]\n",
    "\n",
    "# printing the final results\n",
    "print(\"Neighborhood known max HS graduation attainment \")\n",
    "print(max_hs_name)\n",
    "print(\"Result:\")\n",
    "print(edu.loc[max_hs, \"hs_ratio\"])\n",
    "print()\n",
    "print(\"Neighborhood known max undergrad education attainment \")\n",
    "print(max_undergrad_name)\n",
    "print(\"Result:\")\n",
    "print(edu.loc[max_undergrad, \"undergrad_ratio\"])\n",
    "print()\n",
    "print(\"Neighborhood known max graduate education attainment \")\n",
    "print(max_graduate_name)\n",
    "print(\"Result:\")\n",
    "print(edu.loc[max_graduate, \"graduate_ratio\"])\n",
    "print()"
   ]
  },
  {
   "cell_type": "markdown",
   "id": "589f8c78",
   "metadata": {},
   "source": [
    "### Analysis of results\n",
    "Luckly, I checked in on these districts to make sure that the results were reasonable. First run, I got:\n",
    "Chateau\n",
    "Strip District\n",
    "South Shore\n",
    "Turns out the results weren't accurate. Only 8 poeple from south shore filled out this form, and only 3 people from Chateau. \n",
    "\n",
    "Finally, I got Friendship as the neighborhood with the highest ratio of people whom attained a graduate education as their highest level. around 1400 people from friendship filled out this survey, and 33% of them attained a graduate degree as their highest level of education! Additionally, around 25% of people from Friendship attained a bachelors degree. If we sum this, we get 58% of people had HS or masters as their highest education level.\n",
    "\n",
    "Looking at Strip District, we have that 41% of people attained an undergrad education, and around 17% of people went on to gain a masters education. So if we sum this, 58% of people either had HS or masters as highest education level. \n",
    "\n",
    "This is a beautiful symmetry! We have that both Friendship and Strip District had 58% of people finishing either HS or undergraduate education! Knowing only that, we'd place Friendship in the lead since it has more college graduates. But, if Strip District has enough Doctorate students, it might be enough to make up for the loss! Strip District has about 7% of people having a doctorate as their highest educational attainment, whereas Friendship has 9%. So, clearly, Friendship beats out Strip District on education. \n",
    "\n",
    "### Conclusion\n",
    "We can conclude that based on the data provided, the best neighborhood based on education is Friendship! In order to compare with other submetrics, we'll sort by graduate attainment."
   ]
  },
  {
   "cell_type": "code",
   "execution_count": 5,
   "id": "9325a43b",
   "metadata": {},
   "outputs": [
    {
     "ename": "NameError",
     "evalue": "name 'edu' is not defined",
     "output_type": "error",
     "traceback": [
      "\u001b[0;31m---------------------------------------------------------------------------\u001b[0m",
      "\u001b[0;31mNameError\u001b[0m                                 Traceback (most recent call last)",
      "Cell \u001b[0;32mIn[5], line 1\u001b[0m\n\u001b[0;32m----> 1\u001b[0m sorted_edu \u001b[38;5;241m=\u001b[39m \u001b[43medu\u001b[49m\u001b[38;5;241m.\u001b[39msort_values(by\u001b[38;5;241m=\u001b[39m\u001b[38;5;124m\"\u001b[39m\u001b[38;5;124mgraduate_ratio\u001b[39m\u001b[38;5;124m\"\u001b[39m, ascending\u001b[38;5;241m=\u001b[39m\u001b[38;5;28;01mFalse\u001b[39;00m)\n\u001b[1;32m      2\u001b[0m \u001b[38;5;28mprint\u001b[39m(sorted_edu[\u001b[38;5;124m\"\u001b[39m\u001b[38;5;124mgraduate_ratio\u001b[39m\u001b[38;5;124m\"\u001b[39m])\n\u001b[1;32m      3\u001b[0m nbh_by_graduate \u001b[38;5;241m=\u001b[39m sorted_edu[\u001b[38;5;124m\"\u001b[39m\u001b[38;5;124mNeighborhood\u001b[39m\u001b[38;5;124m\"\u001b[39m]\n",
      "\u001b[0;31mNameError\u001b[0m: name 'edu' is not defined"
     ]
    }
   ],
   "source": [
    "sorted_edu = edu.sort_values(by=\"graduate_ratio\", ascending=False)\n",
    "print(sorted_edu[\"graduate_ratio\"])\n",
    "nbh_by_graduate = sorted_edu[\"Neighborhood\"]\n",
    "nbh_by_graduate = nbh_by_graduate.to_list()\n",
    "\n",
    "print()\n",
    "print(\"Top 15 Neighborhoods based on Graduate School Attainment\")\n",
    "for i in range(15):\n",
    "    print(str(i + 1) + \" \" + nbh_by_graduate[i])"
   ]
  },
  {
   "cell_type": "code",
   "execution_count": null,
   "id": "ec39d206",
   "metadata": {},
   "outputs": [],
   "source": []
  },
  {
   "cell_type": "code",
   "execution_count": null,
   "id": "86531f39",
   "metadata": {},
   "outputs": [],
   "source": []
  }
 ],
 "metadata": {
  "kernelspec": {
   "display_name": "Python 3 (ipykernel)",
   "language": "python",
   "name": "python3"
  },
  "language_info": {
   "codemirror_mode": {
    "name": "ipython",
    "version": 3
   },
   "file_extension": ".py",
   "mimetype": "text/x-python",
   "name": "python",
   "nbconvert_exporter": "python",
   "pygments_lexer": "ipython3",
   "version": "3.11.3"
  }
 },
 "nbformat": 4,
 "nbformat_minor": 5
}
